{
 "cells": [
  {
   "cell_type": "markdown",
   "metadata": {},
   "source": [
    "# Flow Control"
   ]
  },
  {
   "cell_type": "markdown",
   "metadata": {},
   "source": [
    "**Materials by: Joshua R. Smith, Milad Fatenejad, Katy Huff, Tommy Gyu, John Blischay and many more**"
   ]
  },
  {
   "cell_type": "markdown",
   "metadata": {},
   "source": [
    "In this lesson we will cover how to write code that will execute only if specified conditions are met and also how to automate repetitive tasks using loops."
   ]
  },
  {
   "cell_type": "markdown",
   "metadata": {},
   "source": [
    "# Comparisons\n",
    "\n",
    "Python comes with literal comparison operators.  Namely, `< > <= >= == !=`.  All comparisons return the lirteral boolean values: `True` or `False`.  These can be used to test values against one another. For example,"
   ]
  },
  {
   "cell_type": "code",
   "execution_count": 1,
   "metadata": {},
   "outputs": [
    {
     "data": {
      "text/plain": [
       "True"
      ]
     },
     "execution_count": 1,
     "metadata": {},
     "output_type": "execute_result"
    }
   ],
   "source": [
    "2 + 2 == 4"
   ]
  },
  {
   "cell_type": "code",
   "execution_count": 2,
   "metadata": {},
   "outputs": [
    {
     "data": {
      "text/plain": [
       "True"
      ]
     },
     "execution_count": 2,
     "metadata": {},
     "output_type": "execute_result"
    }
   ],
   "source": [
    "'big' < 'small'"
   ]
  },
  {
   "cell_type": "markdown",
   "metadata": {},
   "source": [
    "Comparisons can be chained together with the the **and** & **or** Python keywords."
   ]
  },
  {
   "cell_type": "code",
   "execution_count": 3,
   "metadata": {},
   "outputs": [
    {
     "data": {
      "text/plain": [
       "True"
      ]
     },
     "execution_count": 3,
     "metadata": {},
     "output_type": "execute_result"
    }
   ],
   "source": [
    "1 == 1.0 and 'hello' == 'hello'"
   ]
  },
  {
   "cell_type": "code",
   "execution_count": 4,
   "metadata": {},
   "outputs": [
    {
     "data": {
      "text/plain": [
       "False"
      ]
     },
     "execution_count": 4,
     "metadata": {},
     "output_type": "execute_result"
    }
   ],
   "source": [
    "1 > 10 or False"
   ]
  },
  {
   "cell_type": "code",
   "execution_count": 5,
   "metadata": {},
   "outputs": [
    {
     "data": {
      "text/plain": [
       "True"
      ]
     },
     "execution_count": 5,
     "metadata": {},
     "output_type": "execute_result"
    }
   ],
   "source": [
    "42 < 24 or True and 'wow' != 'mom'"
   ]
  },
  {
   "cell_type": "markdown",
   "metadata": {},
   "source": [
    "Comparisons may also be negated using the **not** keyword."
   ]
  },
  {
   "cell_type": "code",
   "execution_count": 6,
   "metadata": {},
   "outputs": [
    {
     "data": {
      "text/plain": [
       "True"
      ]
     },
     "execution_count": 6,
     "metadata": {},
     "output_type": "execute_result"
    }
   ],
   "source": [
    "not 2 + 2 == 5"
   ]
  },
  {
   "cell_type": "markdown",
   "metadata": {},
   "source": [
    "Finally, the **is** opperator says wherer two objects are the same because they occupy the same place in memory.  This is a test of *equality* (is) rather than *equivalence* (==)."
   ]
  },
  {
   "cell_type": "code",
   "execution_count": 7,
   "metadata": {},
   "outputs": [
    {
     "data": {
      "text/plain": [
       "False"
      ]
     },
     "execution_count": 7,
     "metadata": {},
     "output_type": "execute_result"
    }
   ],
   "source": [
    "x = [1, 2, 3]\n",
    "y = [1, 2, 3]\n",
    "x is y"
   ]
  },
  {
   "cell_type": "code",
   "execution_count": 8,
   "metadata": {},
   "outputs": [
    {
     "data": {
      "text/plain": [
       "True"
      ]
     },
     "execution_count": 8,
     "metadata": {},
     "output_type": "execute_result"
    }
   ],
   "source": [
    "x = 'hello'\n",
    "y = x\n",
    "x is y"
   ]
  },
  {
   "cell_type": "code",
   "execution_count": 9,
   "metadata": {},
   "outputs": [
    {
     "data": {
      "text/plain": [
       "False"
      ]
     },
     "execution_count": 9,
     "metadata": {},
     "output_type": "execute_result"
    }
   ],
   "source": [
    "5 is 5.0"
   ]
  },
  {
   "cell_type": "code",
   "execution_count": 10,
   "metadata": {},
   "outputs": [
    {
     "data": {
      "text/plain": [
       "True"
      ]
     },
     "execution_count": 10,
     "metadata": {},
     "output_type": "execute_result"
    }
   ],
   "source": [
    "5 is not 5.0"
   ]
  },
  {
   "cell_type": "markdown",
   "metadata": {},
   "source": [
    "# If statements\n",
    "\n",
    "That said, these comparisons can be placed inside of an **if** statement.  Such statements have the following form:\n",
    "\n",
    "    if <condition>:\n",
    "        <indented block of code>\n",
    "\n",
    "The indented code will only be execute if the condition evaulates to `True`, which is a special boolean value. **ERROR: Missing round bracket for print()**"
   ]
  },
  {
   "cell_type": "code",
   "execution_count": 12,
   "metadata": {},
   "outputs": [],
   "source": [
    "x = 5\n",
    "if x < 0:\n",
    "    print(\"x is negative\")"
   ]
  },
  {
   "cell_type": "code",
   "execution_count": 13,
   "metadata": {},
   "outputs": [
    {
     "name": "stdout",
     "output_type": "stream",
     "text": [
      "x is negative\n"
     ]
    }
   ],
   "source": [
    "x = -5\n",
    "if x < 0:\n",
    "    print(\"x is negative\")"
   ]
  },
  {
   "cell_type": "markdown",
   "metadata": {},
   "source": [
    "The **if** statement can be combined to great effect with a corresponding **else** clause. \n",
    "\n",
    "    if <condition>:\n",
    "        <if-block>\n",
    "    else:\n",
    "        <else-block>\n",
    "        \n",
    "When the condition is `True` the if-block is executed.  When the condition is `False` the else-block is executed instead."
   ]
  },
  {
   "cell_type": "code",
   "execution_count": 16,
   "metadata": {},
   "outputs": [
    {
     "name": "stdout",
     "output_type": "stream",
     "text": [
      "x in non-negative\n"
     ]
    }
   ],
   "source": [
    "x = 5\n",
    "if x < 0:\n",
    "    print(\"x is negative\")\n",
    "else:\n",
    "    print(\"x in non-negative\")"
   ]
  },
  {
   "cell_type": "markdown",
   "metadata": {},
   "source": [
    "Many cases may be tested by using the **elif** statement.  These come between all the if and else statements:\n",
    "\n",
    "    if <if-condition>:\n",
    "        <if-block>\n",
    "    elif <elif-condition>:\n",
    "        <elif-block>\n",
    "    else:\n",
    "        <else-block>\n",
    "        \n",
    "When if-condition is true then only the if-block is executed.  When elif-condition is true then only the elif-block is executed.  When neither of these are true then the else-block is executed."
   ]
  },
  {
   "cell_type": "code",
   "execution_count": 18,
   "metadata": {},
   "outputs": [
    {
     "name": "stdout",
     "output_type": "stream",
     "text": [
      "x in non-negative\n"
     ]
    }
   ],
   "source": [
    "x = 5\n",
    "if x < 0:\n",
    "    print(\"x is negative\")\n",
    "elif x == 0:\n",
    "    print(\"x is zero\")\n",
    "else:\n",
    "    print(\"x in non-negative\")"
   ]
  },
  {
   "cell_type": "markdown",
   "metadata": {},
   "source": [
    "While there must be one if statetment, and there may be at most one else statement, there maybe as many elif statements as are desired.\n",
    "\n",
    "    if <if-condition>:\n",
    "        <if-block>\n",
    "    elif <elif-condition1>:\n",
    "        <elif-block1>\n",
    "    elif <elif-condition2>:\n",
    "        <elif-block2>\n",
    "    elif <elif-condition3>:\n",
    "        <elif-block3>\n",
    "    ...\n",
    "    else:\n",
    "        <else-block>\n",
    "        \n",
    "Only the block for top most condition that is true is executed. **ERROR: 2nd elif should say \"x is one\". said \"x is zero\"**"
   ]
  },
  {
   "cell_type": "code",
   "execution_count": 21,
   "metadata": {},
   "outputs": [
    {
     "name": "stdout",
     "output_type": "stream",
     "text": [
      "x is positive and greater than 2\n"
     ]
    }
   ],
   "source": [
    "x = 5\n",
    "if x < 0:\n",
    "    print(\"x is negative\")\n",
    "elif x == 0:\n",
    "    print(\"x is zero\")\n",
    "elif x == 1:\n",
    "    print(\"x is one\")\n",
    "elif x == 2:\n",
    "    print(\"x is two\")\n",
    "else:\n",
    "    print(\"x is positive and greater than 2\")"
   ]
  },
  {
   "cell_type": "markdown",
   "metadata": {},
   "source": [
    "Be careful because the computer interprets comparisons very literally."
   ]
  },
  {
   "cell_type": "code",
   "execution_count": 22,
   "metadata": {},
   "outputs": [
    {
     "ename": "TypeError",
     "evalue": "'<' not supported between instances of 'str' and 'int'",
     "output_type": "error",
     "traceback": [
      "\u001b[0;31m---------------------------------------------------------------------------\u001b[0m",
      "\u001b[0;31mTypeError\u001b[0m                                 Traceback (most recent call last)",
      "\u001b[0;32m<ipython-input-22-2ae56e567bff>\u001b[0m in \u001b[0;36m<module>\u001b[0;34m\u001b[0m\n\u001b[0;32m----> 1\u001b[0;31m \u001b[0;34m'1'\u001b[0m \u001b[0;34m<\u001b[0m \u001b[0;36m2\u001b[0m\u001b[0;34m\u001b[0m\u001b[0;34m\u001b[0m\u001b[0m\n\u001b[0m",
      "\u001b[0;31mTypeError\u001b[0m: '<' not supported between instances of 'str' and 'int'"
     ]
    }
   ],
   "source": [
    "'1' < 2"
   ]
  },
  {
   "cell_type": "code",
   "execution_count": 23,
   "metadata": {},
   "outputs": [
    {
     "data": {
      "text/plain": [
       "False"
      ]
     },
     "execution_count": 23,
     "metadata": {},
     "output_type": "execute_result"
    }
   ],
   "source": [
    "True == 'True'"
   ]
  },
  {
   "cell_type": "code",
   "execution_count": 24,
   "metadata": {},
   "outputs": [
    {
     "data": {
      "text/plain": [
       "True"
      ]
     },
     "execution_count": 24,
     "metadata": {},
     "output_type": "execute_result"
    }
   ],
   "source": [
    "False == 0"
   ]
  },
  {
   "cell_type": "code",
   "execution_count": 25,
   "metadata": {},
   "outputs": [
    {
     "data": {
      "text/plain": [
       "False"
      ]
     },
     "execution_count": 25,
     "metadata": {},
     "output_type": "execute_result"
    }
   ],
   "source": [
    "'Bears' > 'Packers'"
   ]
  },
  {
   "cell_type": "markdown",
   "metadata": {},
   "source": [
    "### Aside About Indentation\n",
    "\n",
    "The indentation is a feature of Python syntax. Some other programming languages use brackets to denote a command block. Python uses indentation. The amount of indentation doesn't matter, so long as everything in the same block is indented the same amount."
   ]
  },
  {
   "cell_type": "markdown",
   "metadata": {},
   "source": [
    "**Exercise:** Write an if statement that prints whether x is even or odd. Hint: search up the modulus operator."
   ]
  },
  {
   "cell_type": "code",
   "execution_count": 26,
   "metadata": {},
   "outputs": [
    {
     "name": "stdout",
     "output_type": "stream",
     "text": [
      "x is odd\n"
     ]
    }
   ],
   "source": [
    "x = 1\n",
    "\n",
    "if x % 2 == 0:\n",
    "    print(\"x is even\")\n",
    "else:\n",
    "    print(\"x is odd\")"
   ]
  },
  {
   "cell_type": "markdown",
   "metadata": {},
   "source": [
    "# Loops\n",
    "\n",
    "Loops come in two flavors: **while** and **for**.  While loops have the following structure:\n",
    "\n",
    "    while <condition>:\n",
    "        <indented block of code>\n",
    "        \n",
    "As long as the condition is True, the code in the block will continue to execute.  This may lead to infitinely executing loops!"
   ]
  },
  {
   "cell_type": "code",
   "execution_count": 27,
   "metadata": {},
   "outputs": [
    {
     "name": "stdout",
     "output_type": "stream",
     "text": [
      "apples\n",
      "oranges\n",
      "pears\n",
      "bananas\n"
     ]
    }
   ],
   "source": [
    "fruits = ['apples', 'oranges', 'pears', 'bananas']\n",
    "i = 0\n",
    "while i < len(fruits):\n",
    "    print(fruits[i])\n",
    "    i = i + 1"
   ]
  },
  {
   "cell_type": "markdown",
   "metadata": {},
   "source": [
    "Meanwhile, for-loops have the following structure:\n",
    "\n",
    "    for <loop variable name> in <iterable>:\n",
    "         <indented block of code>\n",
    "         \n",
    "The loop will continue to execute as long as there are more iterations left in the iterable.  Upon each iteration, the value of that iteration is assigned to the loop variable."
   ]
  },
  {
   "cell_type": "code",
   "execution_count": 28,
   "metadata": {},
   "outputs": [
    {
     "name": "stdout",
     "output_type": "stream",
     "text": [
      "apples\n",
      "oranges\n",
      "pears\n",
      "bananas\n"
     ]
    }
   ],
   "source": [
    "for fruit in fruits:\n",
    "    print(fruit)"
   ]
  },
  {
   "cell_type": "code",
   "execution_count": 29,
   "metadata": {},
   "outputs": [
    {
     "name": "stdout",
     "output_type": "stream",
     "text": [
      "0 apples\n",
      "1 oranges\n",
      "2 pears\n",
      "3 bananas\n"
     ]
    }
   ],
   "source": [
    "# range(n) generates numbers [0,n); n is excluded\n",
    "for i in range(len(fruits)):\n",
    "    print(i, fruits[i])"
   ]
  },
  {
   "cell_type": "code",
   "execution_count": 30,
   "metadata": {},
   "outputs": [
    {
     "name": "stdout",
     "output_type": "stream",
     "text": [
      "apples cost 0.49 each\n",
      "oranges cost 0.99 each\n",
      "pears cost 1.49 each\n",
      "bananas cost 0.32 each\n"
     ]
    }
   ],
   "source": [
    "# Use zip to iterate over two lists at once\n",
    "fruits = ['apples', 'oranges', 'pears', 'bananas']\n",
    "prices = [0.49, 0.99, 1.49, 0.32]\n",
    "for fruit, price in zip(fruits, prices):\n",
    "    print(fruit, \"cost\", price, \"each\")"
   ]
  },
  {
   "cell_type": "code",
   "execution_count": 31,
   "metadata": {},
   "outputs": [
    {
     "name": "stdout",
     "output_type": "stream",
     "text": [
      "apples cost 0.49 each\n",
      "oranges cost 0.99 each\n",
      "pears cost 1.49 each\n",
      "bananas cost 0.32 each\n"
     ]
    }
   ],
   "source": [
    "# Use \"items\" to iterate over a dictionary\n",
    "# Note the order is non-deterministic\n",
    "prices = {'apples': 0.49, 'oranges': 0.99, 'pears': 1.49, 'bananas': 0.32}\n",
    "for fruit, price in prices.items():\n",
    "    print(fruit, \"cost\", price, \"each\")"
   ]
  },
  {
   "cell_type": "code",
   "execution_count": 32,
   "metadata": {},
   "outputs": [
    {
     "name": "stdout",
     "output_type": "stream",
     "text": [
      "61912430\n"
     ]
    }
   ],
   "source": [
    "# Calculating a sum\n",
    "values = [1254, 95818, 61813541, 1813, 4]\n",
    "total = 0\n",
    "for x in values:\n",
    "    total = total + x\n",
    "print(total)"
   ]
  },
  {
   "cell_type": "markdown",
   "metadata": {},
   "source": [
    "## Short Exercise\n",
    "Using a loop, calculate the factorial of 42 (the product of all integers up to and including 42)."
   ]
  },
  {
   "cell_type": "code",
   "execution_count": 41,
   "metadata": {},
   "outputs": [
    {
     "name": "stdout",
     "output_type": "stream",
     "text": [
      "Your solution is correct.\n"
     ]
    }
   ],
   "source": [
    "import math\n",
    "\n",
    "answer = 0\n",
    "\n",
    "# Your code here\n",
    "answer = 1\n",
    "for i in range(1, 43):\n",
    "    answer *= i\n",
    "\n",
    "# Answer checked here\n",
    "assert(answer == math.factorial(42)) # This will give an error if your answer is incorrect\n",
    "print(\"Your solution is correct.\")"
   ]
  },
  {
   "cell_type": "markdown",
   "metadata": {},
   "source": [
    "## break, continue, and else\n",
    "\n",
    "A break statement exits a loop. It helps\n",
    "avoid infinite loops by cutting off loops when they're clearly going\n",
    "nowhere."
   ]
  },
  {
   "cell_type": "code",
   "execution_count": 42,
   "metadata": {},
   "outputs": [
    {
     "name": "stdout",
     "output_type": "stream",
     "text": [
      "1\n",
      "2\n",
      "3\n",
      "4\n",
      "5\n",
      "6\n",
      "7\n",
      "8\n",
      "9\n"
     ]
    }
   ],
   "source": [
    "# Prints numbers while n != reasonable\n",
    "reasonable = 10\n",
    "for n in range(1,2000):\n",
    "    if n == reasonable :\n",
    "        break\n",
    "    print(n)"
   ]
  },
  {
   "cell_type": "markdown",
   "metadata": {},
   "source": [
    "Something you might want to do instead of breaking is to continue to the\n",
    "next iteration of a loop, giving up on the current one."
   ]
  },
  {
   "cell_type": "code",
   "execution_count": 43,
   "metadata": {},
   "outputs": [
    {
     "name": "stdout",
     "output_type": "stream",
     "text": [
      "1\n",
      "2\n",
      "3\n",
      "4\n",
      "5\n",
      "6\n",
      "7\n",
      "8\n",
      "9\n",
      "11\n",
      "12\n",
      "13\n",
      "14\n",
      "15\n",
      "16\n",
      "17\n",
      "18\n",
      "19\n"
     ]
    }
   ],
   "source": [
    "# Prints numbers from 1 - 19, excluding 10\n",
    "reasonable = 10\n",
    "for n in range(1,20):\n",
    "    if n == reasonable :\n",
    "      continue\n",
    "    print(n)"
   ]
  },
  {
   "cell_type": "markdown",
   "metadata": {},
   "source": [
    "Importantly, Python allows you to use an else statement in a for loop.\n",
    "\n",
    "That is :"
   ]
  },
  {
   "cell_type": "code",
   "execution_count": 44,
   "metadata": {},
   "outputs": [
    {
     "name": "stdout",
     "output_type": "stream",
     "text": [
      "Sir Belvedere, the Wise\n",
      "Sir Lancelot, the Brave\n",
      "Sir Galahad, the Pure\n",
      "Sir Robin, the Brave, but not quite so brave as Sir Lancelot.\n",
      "The Black Knight, John Cleese\n"
     ]
    }
   ],
   "source": [
    "knights={\"Sir Belvedere\":\"the Wise\", \n",
    "         \"Sir Lancelot\":\"the Brave\", \n",
    "         \"Sir Galahad\":\"the Pure\", \n",
    "         \"Sir Robin\":\"the Brave\", \n",
    "         \"The Black Knight\":\"John Cleese\"} \n",
    "\n",
    "favorites = list(knights.keys()) # convert keys to list\n",
    "favorites.remove(\"Sir Robin\") # this guy is not a facovite\n",
    "for name, title in knights.items() : \n",
    "    string = name + \", \"\n",
    "    for fav in favorites :\n",
    "        if fav == name :\n",
    "            string += title\n",
    "            break\n",
    "    else: # this is executed if loop above does not break\n",
    "        string += title + \", but not quite so brave as Sir Lancelot.\" \n",
    "    print(string)"
   ]
  },
  {
   "cell_type": "markdown",
   "metadata": {},
   "source": [
    "# List comprehensions\n",
    "Python has another way to perform iteration called list comprehensions. The general forms are:\n",
    "\n",
    "    [<elementToAdd> for i in iterator]\n",
    "    [<elementToAdd> for i in iterator if <condition>]"
   ]
  },
  {
   "cell_type": "code",
   "execution_count": 45,
   "metadata": {},
   "outputs": [
    {
     "name": "stdout",
     "output_type": "stream",
     "text": [
      "[10, 2, 6, 20]\n"
     ]
    }
   ],
   "source": [
    "# Multiply every number in a list by 2 using a for loop\n",
    "nums1 = [5, 1, 3, 10]\n",
    "nums2 = []\n",
    "for i in range(len(nums1)):\n",
    "    nums2.append(nums1[i] * 2)\n",
    "    \n",
    "print(nums2)"
   ]
  },
  {
   "cell_type": "code",
   "execution_count": 46,
   "metadata": {},
   "outputs": [
    {
     "name": "stdout",
     "output_type": "stream",
     "text": [
      "[10, 2, 6, 20]\n"
     ]
    }
   ],
   "source": [
    "# Multiply every number in a list by 2 using a list comprehension\n",
    "nums2 = [x * 2 for x in nums1]\n",
    "\n",
    "print(nums2)"
   ]
  },
  {
   "cell_type": "code",
   "execution_count": 47,
   "metadata": {},
   "outputs": [
    {
     "name": "stdout",
     "output_type": "stream",
     "text": [
      "[10, 20]\n"
     ]
    }
   ],
   "source": [
    "# Multiply every number in a list by 2, but only if the number is greater than 4\n",
    "nums1 = [5, 1, 3, 10]\n",
    "nums2 = []\n",
    "for i in range(len(nums1)):\n",
    "    if nums1[i] > 4:\n",
    "        nums2.append(nums1[i] * 2)\n",
    "    \n",
    "print(nums2)"
   ]
  },
  {
   "cell_type": "code",
   "execution_count": 48,
   "metadata": {},
   "outputs": [
    {
     "name": "stdout",
     "output_type": "stream",
     "text": [
      "[10, 20]\n"
     ]
    }
   ],
   "source": [
    "# And using a list comprehension\n",
    "nums2 = [x * 2 for x in nums1 if x > 4]\n",
    "\n",
    "print(nums2)"
   ]
  },
  {
   "cell_type": "markdown",
   "metadata": {},
   "source": [
    "# Reading and Writing files with loops\n",
    "Loops make processing files by each line simple."
   ]
  },
  {
   "cell_type": "code",
   "execution_count": 49,
   "metadata": {},
   "outputs": [
    {
     "name": "stdout",
     "output_type": "stream",
     "text": [
      "There are five spaces in front of me.\n",
      "This line is indented.\n",
      "I have 4 trailing spaces...\n"
     ]
    }
   ],
   "source": [
    "my_file = open(\"OtherFiles/example.txt\",\"r\")\n",
    "for line in my_file:\n",
    "    print(line.strip()) # .strip() removes all the whitespace\n",
    "my_file.close()"
   ]
  },
  {
   "cell_type": "code",
   "execution_count": 54,
   "metadata": {},
   "outputs": [],
   "source": [
    "new_file = open(\"OtherFiles/example2.txt\", \"w+\")\n",
    "dwight = ['bears', 'beets', 'Battlestar Galactica']\n",
    "for i in dwight:\n",
    "    new_file.write(i + '\\n')\n",
    "new_file.close()"
   ]
  },
  {
   "cell_type": "code",
   "execution_count": 55,
   "metadata": {
    "scrolled": true
   },
   "outputs": [
    {
     "name": "stdout",
     "output_type": "stream",
     "text": [
      "['bears\\n', 'beets\\n', 'Battlestar Galactica\\n']\n"
     ]
    }
   ],
   "source": [
    "#Check if write succeeded\n",
    "new_file = open(\"OtherFiles/example2.txt\", 'r')\n",
    "print(new_file.readlines())"
   ]
  },
  {
   "cell_type": "markdown",
   "metadata": {},
   "source": [
    "Using list comphersion, you can further the code to reduce all whitespace from the file:"
   ]
  },
  {
   "cell_type": "code",
   "execution_count": 56,
   "metadata": {},
   "outputs": [
    {
     "name": "stdout",
     "output_type": "stream",
     "text": [
      "['There are five spaces in front of me.', 'This line is indented.', 'I have 4 trailing spaces...']\n"
     ]
    }
   ],
   "source": [
    "my_file = open(\"OtherFiles/example.txt\",\"r\")\n",
    "lines = [line.strip() for line in my_file]\n",
    "print(lines)\n",
    "\n",
    "my_file.close()"
   ]
  },
  {
   "cell_type": "markdown",
   "metadata": {},
   "source": [
    "# Flow Control Exercise: Convert genotypes\n",
    "\n",
    "Attempt all parts. And don't forget to talk to your neighbor!"
   ]
  },
  {
   "cell_type": "markdown",
   "metadata": {},
   "source": [
    "## Motivation:\n",
    "\n",
    "A biologist is interested in the genetic basis of height. She measures the heights of many subjects and sends off their DNA samples to a core for genotyping arrays. These arrays determine the DNA bases at the variable sites of the genome (known as single nucleotide polymorphisms, or SNPs). Since humans are diploid, i.e. have two of each chromosome, each data point will be two DNA bases corresponding to the two chromosomes in each individual. At each SNP, there will be only three possible genotypes, e.g. AA, AG, GG for an A/G SNP. In order to test the correlation between a SNP genotype and height, she wants to perform a regression with an additive genetic model. However, she cannot do this with the data in the current form. She needs to convert the genotypes, e.g. AA, AG, and GG, to the numbers 0, 1, and 2, respectively (in the example the number corresponds the number of G bases the person has at that SNP). Since she has too much data to do this manually, e.g. in Excel, she comes to you for ideas of how to efficiently transform the data."
   ]
  },
  {
   "cell_type": "markdown",
   "metadata": {},
   "source": [
    "## Intializing File\n",
    "Complete the code below to generate the biologist's data. Look at the file OtherFiles/biodata.txt to understand how the data is formatted. \n",
    "\n",
    "You will have to reopen the data file in Jupyter notebook everytime you run this code to see the changes."
   ]
  },
  {
   "cell_type": "code",
   "execution_count": 142,
   "metadata": {},
   "outputs": [],
   "source": [
    "import random\n",
    "\n",
    "samples_length = 20 # feel free to change this variable\n",
    "types = ['AA','AG','GG']\n",
    "\n",
    "open(\"OtherFiles/biodata.txt\", 'w+').close() # clear all previous data\n",
    "data_file = open(\"OtherFiles/biodata.txt\",\"a+\")\n",
    "\n",
    "open(\"OtherFiles/biodata-answers.txt\", 'w+').close() # clear all previous data\n",
    "answers_file = open(\"OtherFiles/biodata-answers.txt\",\"a+\")\n",
    "\n",
    "for i in range(samples_length):\n",
    "    sample_type = random.randint(0,2) # generates 0, 1, or 2 pseudorandomly\n",
    "    answers_file.write(str(sample_type))\n",
    "    data_file.write(\"Genotype #%d: %s\\n\" % (i, types[sample_type]))\n",
    "\n",
    "data_file.close()\n",
    "answers_file.close()"
   ]
  },
  {
   "cell_type": "markdown",
   "metadata": {},
   "source": [
    "## Part 1:\n",
    "\n",
    "Open the input file generated above and create a new list which has the converted genotype for each subject ('AA' -> 0, 'AG' -> 1, 'GG' -> 2). \n",
    "\n",
    "Hint: you can use the types array defined in the initialization to reduce the amount of if statements."
   ]
  },
  {
   "cell_type": "code",
   "execution_count": 143,
   "metadata": {},
   "outputs": [],
   "source": [
    "genos = []\n",
    "genos_new = []\n",
    "\n",
    "# Open the file and get the current genos. Don't forget to close it at the end!\n",
    "answer_file = open(\"OtherFiles/biodata.txt\", 'r')\n",
    "lines = answer_file.readlines()\n",
    "genos = [line.split(\" \")[2].strip() for line in lines] #Get genotypes\n",
    "\n",
    "# Use your knowledge of if/else statements and loop structures below to convert genos -> genos_new:\n",
    "for geno in genos:\n",
    "    for i in range(len(types)):\n",
    "        if geno == types[i]:\n",
    "            genos_new.append(i)"
   ]
  },
  {
   "cell_type": "markdown",
   "metadata": {},
   "source": [
    "Run the code below to check your work:"
   ]
  },
  {
   "cell_type": "code",
   "execution_count": 144,
   "metadata": {},
   "outputs": [
    {
     "name": "stdout",
     "output_type": "stream",
     "text": [
      "You have finished Part 1\n"
     ]
    }
   ],
   "source": [
    "answers_file = open(\"OtherFiles/biodata-answers.txt\",\"r\")\n",
    "answers = [int(i) for i in answers_file.read()]\n",
    "fail = False\n",
    "\n",
    "if len(answers) < len(genos_new):\n",
    "    print(\"Your have too many answers for the dataset.\")\n",
    "if len(answers) > len(genos_new):\n",
    "    print(\"Your have too few answers for the dataset.\")\n",
    "assert(len(answers) == len(genos_new))\n",
    "\n",
    "for case, ans, test in zip(genos, answers, genos_new):\n",
    "    if ans != test:\n",
    "        print(\"Genotype: %s Correct: %d Your Conversion: %d\" % (case, ans, test))\n",
    "        fail = True\n",
    "\n",
    "if not fail:\n",
    "    print(\"You have finished Part 1\")\n",
    "\n",
    "answers_file.close()"
   ]
  },
  {
   "cell_type": "markdown",
   "metadata": {},
   "source": [
    "## Part 2:\n",
    "\n",
    "Count the number of each type of genome and fill out genos_counts."
   ]
  },
  {
   "cell_type": "code",
   "execution_count": 145,
   "metadata": {},
   "outputs": [
    {
     "name": "stdout",
     "output_type": "stream",
     "text": [
      "{'AA': 4, 'AG': 5, 'GG': 11}\n"
     ]
    }
   ],
   "source": [
    "genos_counts = {\"AA\":0,\"AG\":0,\"GG\":0} # key is string type('AA','AG', or 'GG'), value is count\n",
    "\n",
    "# iterate through genos_new and fill out genos_counts. Use the types array[\"AA\",\"AG\",\"GG\"] for a more clever solution.\n",
    "for geno in genos_new:\n",
    "    for i in range(len(types)):\n",
    "        if geno == i:\n",
    "            genos_counts[types[i]] += 1\n",
    "\n",
    "print(genos_counts)\n",
    "assert(sum(genos_counts.values()) == len(genos)) # this will throw an exception if your counts are incorrect"
   ]
  },
  {
   "cell_type": "markdown",
   "metadata": {},
   "source": [
    "## Part 3:\n",
    "\n",
    "Write your output to a new file \"OtherFiles/new-biodata.txt\" using the following format:\n",
    "\n",
    "    Condensed: 0100100222012\n",
    "    AA count: 6\n",
    "    AG count: 7\n",
    "    GG count: 17\n",
    "    Genotype #0:  AA 0\n",
    "    Genotype #1:  AG 1\n",
    "    ...\n",
    "    Genotype #11: AG 1\n",
    "    Genotype #12: AG 1\n",
    "    \n",
    "Notice that with two digit genotypes there is one less space between \"Genotype #11:\" and \"AG 1\". You will have to manually examine the output file to determine if your solution is correct. Specifically, pay attention to your formatting."
   ]
  },
  {
   "cell_type": "code",
   "execution_count": 148,
   "metadata": {},
   "outputs": [
    {
     "name": "stdout",
     "output_type": "stream",
     "text": [
      "Condensed: [0, 0, 1, 1, 1, 2, 0, 1, 2, 2, 2, 2, 2, 2, 2, 0, 2, 2, 1, 2]\n",
      "Counts: {'AA': 4, 'AG': 5, 'GG': 11}\n",
      "['Condensed: 00111201222222202212\\n', 'AA count: 4\\n', 'AG count: 5\\n', 'GG count: 11\\n', 'Genotype #0:  AA 0\\n', 'Genotype #1:  AA 0\\n', 'Genotype #2:  AG 1\\n', 'Genotype #3:  AG 1\\n', 'Genotype #4:  AG 1\\n', 'Genotype #5:  GG 2\\n', 'Genotype #6:  AA 0\\n', 'Genotype #7:  AG 1\\n', 'Genotype #8:  GG 2\\n', 'Genotype #9:  GG 2\\n', 'Genotype #10: GG 2\\n', 'Genotype #11: GG 2\\n', 'Genotype #12: GG 2\\n', 'Genotype #13: GG 2\\n', 'Genotype #14: GG 2\\n', 'Genotype #15: AA 0\\n', 'Genotype #16: GG 2\\n', 'Genotype #17: GG 2\\n', 'Genotype #18: AG 1\\n', 'Genotype #19: GG 2\\n']\n"
     ]
    }
   ],
   "source": [
    "print(\"Condensed: \" + str(answers))\n",
    "print(\"Counts: \" + str(genos_counts))\n",
    "\n",
    "#Create output file\n",
    "open(\"OtherFiles/new-biodata.txt\", 'w+').close() # clear all previous data\n",
    "output_file = open(\"OtherFiles/new-biodata.txt\", \"w+\")\n",
    "#Get string of condensed genos and write to file\n",
    "condensed_genos = \"\"\n",
    "for geno in genos_new:\n",
    "    condensed_genos += str(geno)\n",
    "output_file.write(\"Condensed: %s\\n\" % (condensed_genos))\n",
    "#Write genos count to files\n",
    "for geno, count in genos_counts.items():\n",
    "    output_file.write(\"%s count: %d\\n\" % (str(geno), int(count)))\n",
    "#Write individual genotypes\n",
    "for i in range(len(genos_new)):\n",
    "    if i // 10 == 0:\n",
    "        output_file.write(\"Genotype #%d:  %s %d\\n\" % (i, types[genos_new[i]], genos_new[i]))\n",
    "    else:\n",
    "        output_file.write(\"Genotype #%d: %s %d\\n\" % (i, types[genos_new[i]], genos_new[i]))\n",
    "output_file.close()\n",
    "output_file = open(\"OtherFiles/new-biodata.txt\", \"r\")\n",
    "print(output_file.readlines())"
   ]
  },
  {
   "cell_type": "markdown",
   "metadata": {},
   "source": [
    "# Short Exercises\n",
    "These are some short exercises to get you thinking about how to apply loops and if statements.\n",
    "\n",
    "## Fibonacci\n",
    "Generate a list of the first n terms of the Fibonacci Sequence where each element is defined as the sum of the previous two in the sequence. Written mathematically: \n",
    "\n",
    "    f(0) = 0\n",
    "    f(1) = 1\n",
    "    f(n) = f(n - 1) + f(n - 2)\n",
    "    \n",
    "Use this defintion to solve the problem. n will always be greater than or equal to 0. What should you return when n is 0, 1, or 2?"
   ]
  },
  {
   "cell_type": "code",
   "execution_count": 149,
   "metadata": {},
   "outputs": [
    {
     "name": "stdout",
     "output_type": "stream",
     "text": [
      "[0, 1, 1, 2, 3, 5, 8, 13, 21, 34, 55]\n"
     ]
    }
   ],
   "source": [
    "n = 10\n",
    "fib = [0, 1] # starts with the first two values\n",
    "\n",
    "# Your code here\n",
    "for i in range(2, n + 1):\n",
    "    fib.append(fib[i - 1] + fib[i - 2])\n",
    "\n",
    "# compare output to fibonacci sequence:\n",
    "# 0, 1, 1, 2, 3, 5, 8, 13, 21, 34, 55\n",
    "print(fib) "
   ]
  },
  {
   "cell_type": "markdown",
   "metadata": {},
   "source": [
    "## Matrix Rotation\n",
    "Given a two dimensional array of rows of a matrix m, rotate it 90 degrees clockwise.\n",
    "\n",
    "    m represents this matrix:\n",
    "        1 2 3\n",
    "        4 5 6\n",
    "        7 8 9\n",
    "    Expected output:\n",
    "        7 4 1\n",
    "        8 5 2\n",
    "        9 6 3\n",
    "\n",
    "Challenge: do this without using any lists or dictionaries (no extra memory)."
   ]
  },
  {
   "cell_type": "code",
   "execution_count": 10,
   "metadata": {},
   "outputs": [
    {
     "name": "stdout",
     "output_type": "stream",
     "text": [
      "Input:\n",
      "1 2 3\n",
      "4 5 6\n",
      "7 8 9\n",
      "\n",
      "Result:\n",
      "1 2 3\n",
      "2 5 6\n",
      "3 6 9\n"
     ]
    }
   ],
   "source": [
    "m = [[1,2,3], [4,5,6], [7,8,9]]\n",
    "print(\"Input:\\n\" + '\\n'.join([' '.join(map(str,i)) for i in m]) + '\\n') # print matrix\n",
    "\n",
    "# Your code here\n",
    "# i = 2, 1, 0\n",
    "# j = 0\n",
    "# i = 2, 1, 0\n",
    "# j = 1\n",
    "# i = 2, 1, 0\n",
    "# j = 2\n",
    "#OR: transpose then call .reverse() on each element\n",
    "n = m.copy()\n",
    "\n",
    "for i in range(len(m)):\n",
    "    for j in range(len(m)):\n",
    "        m[j][i] = n[i][j]\n",
    "#for i in range(len(m)):\n",
    "#    m[i].reverse()\n",
    "    \n",
    "#for j in range(len(m)):\n",
    "#    for i, x in zip(range(len(m) - 1, -1, -1), range(len(m))):\n",
    "#        m[j][x] = n[i][j]\n",
    "\n",
    "\n",
    "print(\"Result:\\n\" + '\\n'.join([' '.join(map(str,i)) for i in m])) # print matrix"
   ]
  },
  {
   "cell_type": "markdown",
   "metadata": {},
   "source": [
    "## Diamonds\n",
    "Given the height of a diamond h, print a visual representation of the diamond. h will always be even and h > 1.\n",
    "\n",
    "Examples:\n",
    "\n",
    "    h = 6\n",
    "      /\\\n",
    "     /  \\\n",
    "    /    \\\n",
    "    \\    /\n",
    "     \\  /\n",
    "      \\/\n",
    "      \n",
    "     h = 2\n",
    "     /\\\n",
    "     \\/"
   ]
  },
  {
   "cell_type": "code",
   "execution_count": 25,
   "metadata": {},
   "outputs": [
    {
     "name": "stdout",
     "output_type": "stream",
     "text": [
      "   /\\   \n",
      "  /  \\  \n",
      " /    \\ \n",
      "/      \\\n",
      "\\      /\n",
      " \\    /\n",
      "  \\  /\n",
      "   \\/\n"
     ]
    }
   ],
   "source": [
    "# Uncomment a test case to test it\n",
    "# h = 2\n",
    "# h = 6\n",
    "# h = 8\n",
    "\n",
    "for i in range(0, int(h / 2)):\n",
    "    top = \"\"\n",
    "    for j in range(1, int(h / 2) - i):\n",
    "        top += \" \"\n",
    "    top += \"/\"\n",
    "    for j in range(i):\n",
    "        top += \"  \"\n",
    "    top += \"\\\\\"\n",
    "    for j in range(1, int(h / 2) - i):\n",
    "        top += \" \"\n",
    "    print(top)\n",
    "for i in range(0, int(h / 2)):\n",
    "    top = \"\"\n",
    "    for j in range(0, i):\n",
    "        top += \" \"\n",
    "    top += \"\\\\\"\n",
    "    for j in range(1, int(h / 2) - i):\n",
    "        top += \"  \"\n",
    "    top += \"/\"\n",
    "\n",
    "    print(top)"
   ]
  }
 ],
 "metadata": {
  "kernelspec": {
   "display_name": "Python 3",
   "language": "python",
   "name": "python3"
  },
  "language_info": {
   "codemirror_mode": {
    "name": "ipython",
    "version": 3
   },
   "file_extension": ".py",
   "mimetype": "text/x-python",
   "name": "python",
   "nbconvert_exporter": "python",
   "pygments_lexer": "ipython3",
   "version": "3.7.4"
  }
 },
 "nbformat": 4,
 "nbformat_minor": 1
}
