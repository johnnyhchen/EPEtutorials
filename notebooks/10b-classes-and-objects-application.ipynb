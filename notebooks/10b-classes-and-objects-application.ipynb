{
 "cells": [
  {
   "cell_type": "markdown",
   "metadata": {},
   "source": [
    "# Classes and Objects Exercises\n",
    "\n",
    "**Exercises by Orion Buske with thanks to Jon Pipitone.**"
   ]
  },
  {
   "cell_type": "markdown",
   "metadata": {},
   "source": [
    "Orion is excited at the prospect of having sushi for lunch tomorrow, so this\n",
    "seems like a perfect opportunity to practice object-oriented programming. My\n",
    "apologies in advance for the abundant over-simplifications and high likelihood\n",
    "of other mistakes.\n",
    "\n",
    "Let's start with a little bit of background. Sushi is, to quote Wikipedia, \"a\n",
    "Japanese dish consisting of cooked vinegared rice which is commonly topped with\n",
    "other ingredients, such as fish or other seafood, or put into rolls.\" The two\n",
    "most popular forms of sushi, with a few sub-types, are:\n",
    "\n",
    "1. **Nigiri**- a hand-formed ball of rice topped with something tasty\n",
    "  * Gunkanmaki - with a loose or soft topping that is held in place with a\n",
    "    strip of seaweed\n",
    "  * Temarizushi - where the topping is just pressed into a ball of rice\n",
    "\n",
    "2. **Maki**- one or more tasty things rolled up in seaweed and rice\n",
    "  * Futomaki - seaweed on the outside, usually vegetarian\n",
    "  * Temaki - cone-shaped seaweed filled with rice and tasty things\n",
    "  * Uramaki - rice on the outside\n",
    "\n",
    "Luckily, this sort of hierarchical structure lends itself nicely to Classes and\n",
    "inheritance. If you have been in a sushi restaurant before, you know how often\n",
    "there are typos in the English descriptions. We are going to write a simple\n",
    "program that a sushi restaurant owner could (theoretically) use to create a\n",
    "menu, complete with English translation and Japanese transliteration (but not\n",
    "actual Japanese, forgive me). "
   ]
  },
  {
   "cell_type": "markdown",
   "metadata": {},
   "source": [
    "## Exercise 1.1\n",
    "\n",
    "To start, create an `Ingredient` class that inherits from `object`. The\n",
    "constructor should accept two strings as arguments, `japanese` and `english`,\n",
    "that correspond to the Japanese transliteration and English translation. The\n",
    "`english` argument should be optional, and should default to the value of\n",
    "`japanese` if not supplied (just like on menus, where some ingredients aren't\n",
    "translated and you're left to wonder hopelessly). The value of both should be\n",
    "saved as members of the Ingredient class."
   ]
  },
  {
   "cell_type": "code",
   "execution_count": 2,
   "metadata": {},
   "outputs": [],
   "source": [
    "class Ingredient(object):\n",
    "    def __init__(self, japanese, english = None):\n",
    "        assert japanese # check that japanese name is not None\n",
    "        \n",
    "        # if english is not given, set self.english to the japanese name\n",
    "        if english == None:\n",
    "            self.english = japanese\n",
    "        else:\n",
    "            self.english = english\n",
    "        # set self.japanese\n",
    "        self.japanese = japanese"
   ]
  },
  {
   "cell_type": "markdown",
   "metadata": {},
   "source": [
    "## Execise 1.2\n",
    "\n",
    "Add to the `Ingredient` class two methods: `__str__(self)` and\n",
    "`to_english(self)`. Both methods must return a string, and the `__str__` method\n",
    "is what gets called when you print an object or \"cast\" it to a string. We will\n",
    "have `__str__` return the Japanese name of the ingredient, and `to_english` will\n",
    "return the English translation."
   ]
  },
  {
   "cell_type": "code",
   "execution_count": 3,
   "metadata": {},
   "outputs": [],
   "source": [
    "class Ingredient(object):\n",
    "    def __init__(self, japanese, english = None):\n",
    "        assert japanese # check that japanese name is not None\n",
    "        \n",
    "        # if english is not given, set self.english to the japanese name\n",
    "        if english == None:\n",
    "            self.english = japanese\n",
    "        else:\n",
    "            self.english = english\n",
    "        # set self.japanese\n",
    "        self.japanese = japanese\n",
    "        \n",
    "    # returns japanese name\n",
    "    def __str__(self):\n",
    "        return self.japanese\n",
    "    \n",
    "    # returns english translation\n",
    "    def to_english(self):\n",
    "        return self.english"
   ]
  },
  {
   "cell_type": "markdown",
   "metadata": {},
   "source": [
    "I have created (with data from http://www.bento.com/sushivoc.html) a file of\n",
    "common sushi ingredients, [sushi.txt](OtherFiles/sushi.txt). The first column is the\n",
    "transliteration, the second column is the translation, if available (I\n",
    "selectively removed a few). OtherFiles/small_sushi.txt is the first 7 lines."
   ]
  },
  {
   "cell_type": "markdown",
   "metadata": {},
   "source": [
    "## Exercise 1.3\n",
    "\n",
    "Write a function, `read_ingredients`, that accepts an opened file object as its\n",
    "argument and returns a list of `Ingredient` objects.\n",
    "\n",
    "Try calling this function on the sushi_terms.txt in an `if __name__ =='__main__'` block and printing the first few ingredients to make sure it works."
   ]
  },
  {
   "cell_type": "code",
   "execution_count": 4,
   "metadata": {},
   "outputs": [
    {
     "name": "stdout",
     "output_type": "stream",
     "text": [
      "Japanese: aji English: horse mackerel\n",
      "Japanese: akagai English: ark shell\n",
      "Japanese: amaebi English: raw shrimp\n",
      "Japanese: anago English: conger eel\n",
      "Japanese: aoyagi English: round clam\n",
      "Japanese: awabi English: abalone\n",
      "Japanese: botan-ebi English: botan-ebi\n"
     ]
    }
   ],
   "source": [
    "def read_ingredients(file):\n",
    "    ingredients = file.readlines()\n",
    "    list = []\n",
    "    for ingredient in ingredients:\n",
    "        name = ingredient.strip().split(\"\\t\")\n",
    "        if (len(name) == 2):\n",
    "            list.append(Ingredient(name[0].strip(), name[1].strip()))\n",
    "        else:\n",
    "            list.append(Ingredient(name[0].strip()))\n",
    "    return list\n",
    "\n",
    "# this code will only run if we are running this code cell\n",
    "if __name__=='__main__':\n",
    "    in_file = open(\"OtherFiles/small_sushi.txt\",\"r\")\n",
    "    ingredients = read_ingredients(in_file)\n",
    "    for i in ingredients:\n",
    "        # compare output to file\n",
    "        print(\"Japanese: %s English: %s\" % (i, i.to_english()))"
   ]
  },
  {
   "cell_type": "markdown",
   "metadata": {},
   "source": [
    "## Execise 4\n",
    "\n",
    "Now, create a `Sushi` class that inherits from `object`. `Sushi`s It should have\n",
    "a constructor that accepts a list of `Ingredient` objects."
   ]
  },
  {
   "cell_type": "code",
   "execution_count": 5,
   "metadata": {},
   "outputs": [],
   "source": [
    "# your code here\n",
    "class Sushi(object):\n",
    "    def __init__(self, *ingredients):\n",
    "        self.ingredients = ingredients"
   ]
  },
  {
   "cell_type": "markdown",
   "metadata": {},
   "source": [
    "## Exercise 5\n",
    "\n",
    "Next, add a `__str__(self)` method. This method must return a string. Â The\n",
    "string should contain the Japanese representation of all the ingredients, but\n",
    "the string itself should be in proper English so, for example, \"buri\", \"buri and\n",
    "tsubugai\", and \"buri, tsubugai, and kanpachi\" are the correct way to print one,\n",
    "two, or three ingredients, respectively. Do not just join the ingredients with\n",
    "commas.\n",
    "\n",
    "**Hint:**\n",
    "\n",
    "    Since all the ingredients are `Ingredient` objects, you can just turn them\n",
    "    into strings to get their Japanese representation.\n",
    "\n",
    "**Hint:**\n",
    "\n",
    "    There are three cases: 1, 2, or 3+ items. It's okay to handle them separately."
   ]
  },
  {
   "cell_type": "code",
   "execution_count": 6,
   "metadata": {},
   "outputs": [
    {
     "name": "stdout",
     "output_type": "stream",
     "text": [
      "buri\n",
      "buri and tsubugai\n",
      "buri, tsubugai, and kanpachi\n",
      "All tests passed.\n"
     ]
    }
   ],
   "source": [
    "#### COPY & PASTE SUSHI CLASS HERE ###\n",
    "# Add __str__() method for Sushi.\n",
    "class Sushi(object):\n",
    "    def __init__(self, ingredients):\n",
    "        self.ingredients = ingredients\n",
    "    \n",
    "    def __str__(self):\n",
    "        rtn = str(self.ingredients[0])\n",
    "        if len(self.ingredients) == 2:\n",
    "            rtn += \" and \" + str(self.ingredients[1])\n",
    "        elif len(self.ingredients) >= 3:\n",
    "            for i in range(1, len(self.ingredients) - 1):\n",
    "                rtn += \", \" + str(self.ingredients[i])\n",
    "            rtn += \", and \" + str(self.ingredients[len(self.ingredients) - 1])\n",
    "        return rtn\n",
    "\n",
    "# test solution\n",
    "if __name__ == '__main__':\n",
    "    ingredients1 = [Ingredient(\"buri\")]\n",
    "    test_sushi1 = Sushi(ingredients1)\n",
    "    print(test_sushi1)\n",
    "    assert(str(test_sushi1) == \"buri\")\n",
    "    \n",
    "    ingredients2 = [Ingredient(\"buri\"), Ingredient(\"tsubugai\")]\n",
    "    test_sushi2 = Sushi(ingredients2)\n",
    "    print(test_sushi2)\n",
    "    assert(str(test_sushi2) == \"buri and tsubugai\")\n",
    "    \n",
    "    ingredients3 = [Ingredient(\"buri\"), Ingredient(\"tsubugai\"), Ingredient(\"kanpachi\")]\n",
    "    test_sushi3 = Sushi(ingredients3)\n",
    "    print(test_sushi3)\n",
    "    assert(str(test_sushi3) == \"buri, tsubugai, and kanpachi\")\n",
    "    \n",
    "    print(\"All tests passed.\")"
   ]
  },
  {
   "cell_type": "markdown",
   "metadata": {},
   "source": [
    "## Execise 6\n",
    "\n",
    "Next, add a loop to your `__main__` block that prompts the user for a menu item\n",
    "and reads a line from `sys.stdin`. Provide a command for the user to quit (and\n",
    "tell them what it is). For now, expect the user to just type one or more\n",
    "ingredients on a line. You can use the built-in function `input()` for this.\n",
    "\n",
    "You should then parse the ingredients, find the appropriate `Ingredient`\n",
    "objects, create a `Sushi` object, and print it in response. For example:\n",
    "\n",
    "    Enter your sushi ('QUIT' to exit): unagi fugu ika sake\n",
    "    unagi, fugu, ika, and sake\n",
    "\n",
    "You may need to review\n",
    "dictionaries for this\n",
    "exercise."
   ]
  },
  {
   "cell_type": "code",
   "execution_count": 7,
   "metadata": {},
   "outputs": [
    {
     "name": "stdout",
     "output_type": "stream",
     "text": [
      "Enter your sushi (QUIT to exit): QUIT\n"
     ]
    }
   ],
   "source": [
    "if __name__ == \"__main__\":\n",
    "    while True:\n",
    "        # your code here\n",
    "        # remember to set exit to true to close the loop when the user says 'QUIT'\n",
    "        arg = input(\"Enter your sushi (QUIT to exit): \").strip()\n",
    "        if (arg == 'QUIT'):\n",
    "            break\n",
    "        ingredients = arg.split(\" \")\n",
    "        ingredient_list = []\n",
    "        for ingredient in ingredients:\n",
    "            ingredient_list.append(Ingredient(ingredient.strip()))\n",
    "        print(str(Sushi(ingredient_list)))"
   ]
  },
  {
   "cell_type": "markdown",
   "metadata": {},
   "source": [
    "## Execise 7\n",
    "\n",
    "Now, add another method to the Sushi class, `to_english(self)`, which should\n",
    "return the English translation for the Sushi object. Thus, it should return a\n",
    "similar string as the `__str__` method, but with English ingredients instead of\n",
    "Japanese ones. Do not call `__str__` and translate its string. Since you were\n",
    "given the ingredients initially, just use their `to_english` methods, format\n",
    "them correctly with commas and \"and\"s, and return that. Since both `to_english`\n",
    "and `__str__` have to format their ingredients in the same way, you might want\n",
    "to create a helper method that formats a list of ingredients (regardless of\n",
    "their language).\n",
    "\n",
    "You should now also print the result of calling `to_english` on the `Sushi`\n",
    "objects you make at the user's request. Thus:\n",
    "    \n",
    "    Enter your sushi ('QUIT' to exit): <strong>unagi fugu ika sake</strong>\n",
    "    unagi, fugu, ika, and sake\n",
    "    eel, fugu, squid, and salmon"
   ]
  },
  {
   "cell_type": "code",
   "execution_count": 8,
   "metadata": {},
   "outputs": [
    {
     "name": "stdout",
     "output_type": "stream",
     "text": [
      "Enter your sushi (QUIT to exit): QUIT\n"
     ]
    }
   ],
   "source": [
    "#### COPY & PASTE SUSHI CLASS HERE ###\n",
    "# Add __str__() method for Sushi.\n",
    "class Sushi(object):\n",
    "    def __init__(self, ingredients):\n",
    "        self.ingredients = ingredients\n",
    "    \n",
    "    def __str__(self):\n",
    "        rtn = str(self.ingredients[0])\n",
    "        if len(self.ingredients) == 2:\n",
    "            rtn += \" and \" + str(self.ingredients[1])\n",
    "        elif len(self.ingredients) >= 3:\n",
    "            for i in range(1, len(self.ingredients) - 1):\n",
    "                rtn += \", \" + str(self.ingredients[i])\n",
    "            rtn += \", and \" + str(self.ingredients[len(self.ingredients) - 1])\n",
    "        return rtn\n",
    "\n",
    "    def to_english(self):\n",
    "        rtn = self.ingredients[0].to_english()\n",
    "        if len(self.ingredients) == 2:\n",
    "            rtn += \" and \" + self.ingredients[1].to_english()\n",
    "        elif len(self.ingredients) >= 3:\n",
    "            for i in range(1, len(self.ingredients) - 1):\n",
    "                rtn += \", \" + self.ingredients[i].to_english()\n",
    "            rtn += \", and \" + self.ingredients[len(self.ingredients) - 1].to_english()\n",
    "        return rtn\n",
    "\n",
    "if __name__ == \"__main__\":\n",
    "    #Helps find translation of given ingredient name\n",
    "    all_ingredients = read_ingredients(open(\"./OtherFiles/sushi.txt\", 'r'))\n",
    "    translations = {}\n",
    "    for i in all_ingredients:\n",
    "        translations[str(i)] = i.to_english()\n",
    "    while True:\n",
    "        # your code here\n",
    "        # remember to set exit to true to close the loop when the user says 'QUIT'\n",
    "        arg = input(\"Enter your sushi (QUIT to exit): \").strip()\n",
    "        if (arg == 'QUIT'):\n",
    "            break\n",
    "        ingredients = arg.split(\" \")\n",
    "        ingredient_list = []\n",
    "        for ingredient in ingredients:\n",
    "            ingredient_list.append(Ingredient(ingredient.strip(), translations[ingredient.strip()]))\n",
    "        print(str(Sushi(ingredient_list)))\n",
    "        print(Sushi(ingredient_list).to_english())"
   ]
  },
  {
   "cell_type": "markdown",
   "metadata": {},
   "source": [
    "## Execise 8\n",
    "\n",
    "Now let's add a `Maki` class that inherits from `Sushi`. Everything will be the\n",
    "same, except instead of just printing the ingredients, we want to print\n",
    "something more descriptive. Let's have its `__str__` and `to_english` methods\n",
    "return a string of the form: `[ingredients] rolled in [rice] and [seaweed]`,\n",
    "where `[ingredients]` is our grammatical list of ingredients, and `[rice]` and\n",
    "`[seaweed]` are two other ingredients that will be consistent across all sushi\n",
    "types, but you should be sure to use the correct language at the correct time,\n",
    "like other ingredients. However, these ingredients won't be specified in the\n",
    "list of ingredients; they are implied by the type of sushi! You can create\n",
    "constants for these ingredients or handle them in some other way. I did the\n",
    "following:"
   ]
  },
  {
   "cell_type": "code",
   "execution_count": 9,
   "metadata": {},
   "outputs": [],
   "source": [
    "class Maki(Sushi):\n",
    "    RICE = Ingredient('su-meshi', 'sushi rice')\n",
    "    SEAWEED = Ingredient('nori', 'seaweed')\n",
    "    \n",
    "    #### COPY & PASTE SUSHI CLASS HERE ###\n",
    "    def __str__(self):\n",
    "        rtn = str(self.ingredients[0])\n",
    "        if len(self.ingredients) == 2:\n",
    "            rtn += \" and \" + str(self.ingredients[1])\n",
    "        elif len(self.ingredients) >= 3:\n",
    "            for i in range(1, len(self.ingredients) - 1):\n",
    "                rtn += \", \" + str(self.ingredients[i])\n",
    "            rtn += \", and \" + str(self.ingredients[len(self.ingredients) - 1])\n",
    "        #Maki specific portion\n",
    "        rtn += \" rolled in \" + str(self.RICE) + \" and \" + str(self.SEAWEED)\n",
    "        return rtn\n",
    "\n",
    "    def to_english(self):\n",
    "        rtn = self.ingredients[0].to_english()\n",
    "        if len(self.ingredients) == 2:\n",
    "            rtn += \" and \" + self.ingredients[1].to_english()\n",
    "        elif len(self.ingredients) >= 3:\n",
    "            for i in range(1, len(self.ingredients) - 1):\n",
    "                rtn += \", \" + self.ingredients[i].to_english()\n",
    "            rtn += \", and \" + self.ingredients[len(self.ingredients) - 1].to_english()\n",
    "        #Maki specific portion\n",
    "        rtn += \" rolled in \" + self.RICE.to_english() + \" and \" + self.SEAWEED.to_english()\n",
    "        return rtn"
   ]
  },
  {
   "cell_type": "markdown",
   "metadata": {},
   "source": [
    "## Execise 9\n",
    "\n",
    "Now, revise the `__main__` block so that if someone enters \"unagi fugu\" or\n",
    "\"unagi fugu sushi\" we consider it to be general sushi and create an appropriate\n",
    "`Sushi` object. However, if the last word was \"maki\", we should create a `Maki`\n",
    "object instead. You should do this in a way that is very easy to extend, because\n",
    "there are going to be many more of these. As a general rule, we'll expect the\n",
    "user to enter a number of Japanese ingredients, possibly following by a sushi\n",
    "type. If no sushi type is specified, we should default to the base class,\n",
    "otherwise we should use the type the user specified.\n",
    "\n",
    "**Hint:**"
   ]
  },
  {
   "cell_type": "code",
   "execution_count": 10,
   "metadata": {},
   "outputs": [
    {
     "name": "stdout",
     "output_type": "stream",
     "text": [
      "Enter your sushi (QUIT to exit): QUIT\n"
     ]
    }
   ],
   "source": [
    "#### COPY & PASTE EXERCISE 7 MAIN HERE ###\n",
    "if __name__ == \"__main__\":\n",
    "    # Helps find translation of given ingredient name\n",
    "    all_ingredients = read_ingredients(open(\"./OtherFiles/sushi.txt\", 'r'))\n",
    "    translations = {}\n",
    "    for i in all_ingredients:\n",
    "        translations[str(i)] = i.to_english()\n",
    "    # Helps determine type of sushi to make\n",
    "    types = {'sushi': Sushi,'maki': Maki} \n",
    "\n",
    "    # Execution loop\n",
    "    while True:\n",
    "        arg = input(\"Enter your sushi (QUIT to exit): \").strip()\n",
    "        if (arg == 'QUIT'):\n",
    "            break\n",
    "        words = arg.split(\" \")\n",
    "        ingredient_list = []\n",
    "        # Extract sushi type if applicable\n",
    "        sushi_type = words.pop()\n",
    "        if sushi_type not in types: # no type specified\n",
    "            words.append(sushi_type)\n",
    "\n",
    "        # Create list of ingredients based on input words\n",
    "        for ingredient in words:\n",
    "            ingredient_list.append(Ingredient(ingredient.strip(), translations[ingredient.strip()]))\n",
    "        # print out sushi\n",
    "        sushi = \"\"\n",
    "        if sushi_type not in types: # make a general sushi\n",
    "            sushi = Sushi(ingredient_list)\n",
    "        else:\n",
    "            sushi = types[sushi_type](ingredient_list)\n",
    "        print(str(sushi))\n",
    "        print(sushi.to_english())"
   ]
  },
  {
   "cell_type": "markdown",
   "metadata": {},
   "source": [
    "## Exercise 10\n",
    "\n",
    "Wonderful! We have a few more kinds of sushi to add, though. Futomaki, Temaki,\n",
    "and Uramaki are all types of Maki, and all should inherit from it. Their\n",
    "respective format strings should be of the following sort:\n",
    "\n",
    "- **Futomaki:** \"[ingredients] rolled in [rice] and [seaweed], with [seaweed]\n",
    "  facing out\"\n",
    "- **Temaki:**   \"cone of [seaweed] filled with [rice] and [ingredients]\"\n",
    "- **Uramaki:**  \"[ingredients] rolled in [seaweed] and [rice], with [rice]\n",
    "  facing out\"\n",
    "\n",
    "You may find the notion of a format string useful in this endeavor. For\n",
    "instance, if you have the following string:"
   ]
  },
  {
   "cell_type": "code",
   "execution_count": 11,
   "metadata": {},
   "outputs": [],
   "source": [
    "my_str = \"{ingredients} rolled in {rice} and {seaweed}, with {seaweed} facing out\""
   ]
  },
  {
   "cell_type": "markdown",
   "metadata": {},
   "source": [
    "Then you can do the following:"
   ]
  },
  {
   "cell_type": "code",
   "execution_count": 12,
   "metadata": {},
   "outputs": [
    {
     "name": "stdout",
     "output_type": "stream",
     "text": [
      "yummy things rolled in su-meshi and nori, with nori facing out\n"
     ]
    }
   ],
   "source": [
    "RICE = Ingredient('su-meshi', 'sushi rice')\n",
    "SEAWEED = Ingredient('nori', 'seaweed')\n",
    "ingredient_str = \"yummy things\"\n",
    "vals = {'rice': RICE, 'seaweed': SEAWEED, 'ingredients': ingredient_str}\n",
    "print(my_str.format(**vals))"
   ]
  },
  {
   "cell_type": "markdown",
   "metadata": {},
   "source": [
    "This is in fact quite powerful, because you can include rice and seaweed even if\n",
    "they don't occur in the format string! Given this knowledge, you should try to\n",
    "rewrite the `Sushi` base class so that it formats a member variable with a\n",
    "dictionary of 'rice', 'seaweed', and 'ingredients'. Then, any child class need\n",
    "only change their value of this member and everything works. For example:"
   ]
  },
  {
   "cell_type": "code",
   "execution_count": 13,
   "metadata": {},
   "outputs": [
    {
     "name": "stdout",
     "output_type": "stream",
     "text": [
      "Enter your sushi (QUIT to exit): unagi\n",
      "unagi\n",
      "eel\n",
      "Enter your sushi (QUIT to exit): unagi ohyo uramaki\n",
      "unagi and ohyo rolled in nori and su-meshi, with su-meshi facing out\n",
      "eel and halibut rolled in seaweed and sushi rice, with sushi rice facing out\n",
      "Enter your sushi (QUIT to exit): ikura temaki\n",
      "cone of nori filled with su-meshi and ikura\n",
      "cone of seaweed filled with sushi rice and salmon roe\n",
      "Enter your sushi (QUIT to exit): QUIT\n"
     ]
    }
   ],
   "source": [
    "class Sushi():\n",
    "    #### COPY & PASTE SUSHI METHODS HERE ####\n",
    "    # Add a field in __init__ that creates a dict with:\n",
    "    # {'rice': RICE, 'seaweed': SEAWEED, 'ingredients': ingredient_str}\n",
    "    # Add a description field:\n",
    "    # \"{ingredients}\"\n",
    "    # change __str__() method to format ingredients using the dictionary\n",
    "    RICE = Ingredient('su-meshi', 'sushi rice')\n",
    "    SEAWEED = Ingredient('nori', 'seaweed')\n",
    "    description = \"{ingredients}\"\n",
    "    \n",
    "    def __init__(self, ingredients):\n",
    "        self.ingredients = ingredients\n",
    "        self.vals = {'rice': self.RICE, 'seaweed': self.SEAWEED, 'ingredients': ingredient_str}\n",
    "\n",
    "    def __str__(self):\n",
    "        self.vals['ingredients'] = self.set_ingredient_str()\n",
    "        self.vals['rice'] = self.RICE\n",
    "        self.vals['seaweed'] = self.SEAWEED\n",
    "        return self.description.format(**self.vals)\n",
    "\n",
    "    def to_english(self):\n",
    "        self.vals['ingredients'] = self.set_engl_ingredient_str()\n",
    "        self.vals['rice'] = self.RICE.to_english()\n",
    "        self.vals['seaweed'] = self.SEAWEED.to_english()\n",
    "        return self.description.format(**self.vals)\n",
    "\n",
    "    def set_ingredient_str(self):\n",
    "        rtn = str(self.ingredients[0])\n",
    "        if len(self.ingredients) == 2:\n",
    "            rtn += \" and \" + str(self.ingredients[1])\n",
    "        elif len(self.ingredients) >= 3:\n",
    "            for i in range(1, len(self.ingredients) - 1):\n",
    "                rtn += \", \" + str(self.ingredients[i])\n",
    "            rtn += \", and \" + str(self.ingredients[len(self.ingredients) - 1])\n",
    "        return rtn\n",
    "\n",
    "    def set_engl_ingredient_str(self):\n",
    "        rtn = self.ingredients[0].to_english()\n",
    "        if len(self.ingredients) == 2:\n",
    "            rtn += \" and \" + self.ingredients[1].to_english()\n",
    "        elif len(self.ingredients) >= 3:\n",
    "            for i in range(1, len(self.ingredients) - 1):\n",
    "                rtn += \", \" + self.ingredients[i].to_english()\n",
    "            rtn += \", and \" + self.ingredients[len(self.ingredients) - 1].to_english()\n",
    "        return rtn\n",
    "\n",
    "class Maki(Sushi):\n",
    "    #### COPY & PASTE MAKI METHODS HERE ####\n",
    "    description = \"{ingredients} rolled in {rice} and {seaweed}\"\n",
    "\n",
    "class Futomaki(Maki):\n",
    "    description = \"{ingredients} rolled in {rice} and {seaweed}, with {seaweed} facing out\"\n",
    "    \n",
    "class Temaki(Maki):\n",
    "    description = \"cone of {seaweed} filled with {rice} and {ingredients}\"\n",
    "\n",
    "class Uramaki(Maki):\n",
    "    description = \"{ingredients} rolled in {seaweed} and {rice}, with {rice} facing out\"\n",
    "    \n",
    "#### COPY & PASTE MAIN BLOCK HERE ####\n",
    "if __name__ == \"__main__\":\n",
    "    # Helps find translation of given ingredient name\n",
    "    all_ingredients = read_ingredients(open(\"./OtherFiles/sushi.txt\", 'r'))\n",
    "    translations = {}\n",
    "    for i in all_ingredients:\n",
    "        translations[str(i)] = i.to_english()\n",
    "    # Helps determine type of sushi to make\n",
    "    types = {'sushi': Sushi,\n",
    "             'maki': Maki,\n",
    "             'futomaki': Futomaki,\n",
    "             'temaki': Temaki,\n",
    "             'uramaki': Uramaki}\n",
    "\n",
    "    # Execution loop\n",
    "    while True:\n",
    "        arg = input(\"Enter your sushi (QUIT to exit): \").strip()\n",
    "        if (arg == 'QUIT'):\n",
    "            break\n",
    "        words = arg.split(\" \")\n",
    "        ingredient_list = []\n",
    "        # Extract sushi type if applicable\n",
    "        sushi_type = words.pop()\n",
    "        if sushi_type not in types: # no type specified\n",
    "            words.append(sushi_type)\n",
    "\n",
    "        # Create list of ingredients based on input words\n",
    "        for ingredient in words:\n",
    "            ingredient_list.append(Ingredient(ingredient.strip(), translations[ingredient.strip()]))\n",
    "        # print out sushi\n",
    "        sushi = \"\"\n",
    "        if sushi_type not in types: # make a general sushi\n",
    "            sushi = Sushi(ingredient_list)\n",
    "        else:\n",
    "            sushi = types[sushi_type](ingredient_list)\n",
    "        print(str(sushi))\n",
    "        print(sushi.to_english())"
   ]
  },
  {
   "cell_type": "markdown",
   "metadata": {},
   "source": [
    "Make sure this works for both Japanese and English strings, and make sure you've\n",
    "added these new Maki types to your `__main__` block so that the following work:\n",
    "    \n",
    "    Enter your sushi ('QUIT' to exit): <strong>unagi ohyo uramaki</strong>\n",
    "    unagi and ohyo rolled in nori and su-meshi, with su-meshi facing out\n",
    "    eel and halibut rolled in seaweed and sushi rice, with sushi rice facing out\n",
    "    \n",
    "    Enter your sushi ('QUIT' to exit): <strong>ikura temaki</strong>\n",
    "    cone of nori filled with su-meshi and ikura\n",
    "    cone of seaweed filled with sushi rice and salmon roe"
   ]
  },
  {
   "cell_type": "markdown",
   "metadata": {},
   "source": [
    "## Exercise 11\n",
    "\n",
    "Almost done. One last set of sushi classes to add. Add a Nigiri class that\n",
    "inherits from Sushi, and Gunkanmaki and Temarizushi classes that inherit from\n",
    "Nigiri. Since Nigiri usually only has one topping, you should take advantage of\n",
    "inheritance to make sure this is true for all such sushi by checking that this\n",
    "is the case in Nigiri's `__init__` method. If you run into an error, raise an\n",
    "InvalidSushiError (you will have to define one; Python's libraries aren't quite\n",
    "that complete). Don't forget to call it's parent's init method as well. Their\n",
    "descriptions are as follows:\n",
    "    \n",
    "- **Nigiri:** \"hand-formed [rice] topped with [ingredients]\"\n",
    "- **Gunkanmaki:** \"[ingredient] on [rice] wrapped in a strip of [seaweed]\"\n",
    "- **Temarizushi:** \"[ingredients] pressed into a ball of [rice]\"\n",
    "\n",
    "**Hint:**"
   ]
  },
  {
   "cell_type": "code",
   "execution_count": 21,
   "metadata": {},
   "outputs": [
    {
     "name": "stdout",
     "output_type": "stream",
     "text": [
      "Enter your sushi (QUIT to exit): ika gunkanmaki\n",
      "ika on su-meshi wrapped in a strip of nori\n",
      "squid on sushi rice wrapped in a strip of seaweed\n",
      "Enter your sushi (QUIT to exit): ika nigiri\n",
      "hand-formed su-meshi topped with ika\n",
      "hand-formed sushi rice topped with squid\n",
      "Enter your sushi (QUIT to exit): ika temarizushi\n",
      "ika pressed into a ball of su-meshi\n",
      "squid pressed into a ball of sushi rice\n",
      "Enter your sushi (QUIT to exit): ika sake uramaki\n",
      "ika and sake rolled in nori and su-meshi, with su-meshi facing out\n",
      "squid and salmon rolled in seaweed and sushi rice, with sushi rice facing out\n",
      "Enter your sushi (QUIT to exit): QUIT\n"
     ]
    }
   ],
   "source": [
    "# Nigiri class here that inherits from Sushi\n",
    "class Nigiri(Sushi):\n",
    "    description = \"hand-formed {rice} topped with {ingredients}\"\n",
    "\n",
    "    def __init__(self, ingredients):\n",
    "        self.ingredients = ingredients\n",
    "        self.vals = {'rice': self.RICE, 'seaweed': self.SEAWEED, 'ingredients': ingredient_str}\n",
    "        if len(self.ingredients) != 1:\n",
    "            raise InvalidSushiError(\"Nigiri has only one topping\")\n",
    "\n",
    "# Gunkanmaki class here that inherits from Nigiri\n",
    "class Gunkanmaki(Nigiri):\n",
    "    description = \"{ingredients} on {rice} wrapped in a strip of {seaweed}\"\n",
    "\n",
    "# Temarizushi class here that inherits from Nigiri\n",
    "class Temarizushi(Nigiri):\n",
    "    description = \"{ingredients} pressed into a ball of {rice}\"\n",
    "\n",
    "class InvalidSushiError(Exception):\n",
    "    # Use the internet if you are unsure how to do this\n",
    "    pass\n",
    "\n",
    "#### COPY & PASTE MAIN BLOCK HERE ####\n",
    "if __name__ == \"__main__\":\n",
    "    # Helps find translation of given ingredient name\n",
    "    all_ingredients = read_ingredients(open(\"./OtherFiles/sushi.txt\", 'r'))\n",
    "    translations = {}\n",
    "    for i in all_ingredients:\n",
    "        translations[str(i)] = i.to_english()\n",
    "    # Helps determine type of sushi to make\n",
    "    types = {'sushi': Sushi,\n",
    "             'maki': Maki,\n",
    "             'futomaki': Futomaki,\n",
    "             'temaki': Temaki,\n",
    "             'uramaki': Uramaki,\n",
    "             'nigiri': Nigiri,\n",
    "             'gunkanmaki': Gunkanmaki,\n",
    "             'temarizushi': Temarizushi}\n",
    "\n",
    "    # Execution loop\n",
    "    while True:\n",
    "        arg = input(\"Enter your sushi (QUIT to exit): \").strip()\n",
    "        if (arg == 'QUIT'):\n",
    "            break\n",
    "        words = arg.split(\" \")\n",
    "        ingredient_list = []\n",
    "        # Extract sushi type if applicable\n",
    "        sushi_type = words.pop()\n",
    "        if sushi_type not in types: # no type specified\n",
    "            words.append(sushi_type)\n",
    "\n",
    "        # Create list of ingredients based on input words\n",
    "        for ingredient in words:\n",
    "            ingredient_list.append(Ingredient(ingredient.strip(), translations[ingredient.strip()]))\n",
    "        # print out sushi\n",
    "        sushi = \"\"\n",
    "        if sushi_type not in types: # make a general sushi\n",
    "            sushi = Sushi(ingredient_list)\n",
    "        else:\n",
    "            sushi = types[sushi_type](ingredient_list)\n",
    "        print(str(sushi))\n",
    "        print(sushi.to_english())"
   ]
  },
  {
   "cell_type": "markdown",
   "metadata": {},
   "source": [
    "As a final test, the following example should work:\n",
    "\n",
    "    \n",
    "    Enter your sushi ('QUIT' to exit): <strong>fugu ohyo ika unagi</strong>\n",
    "    fugu, ohyo, ika, and unagi\n",
    "    fugu, halibut, squid, and eel\n",
    "    \n",
    "    Enter your sushi ('QUIT' to exit): <strong>fugu ohyo ika unagi sushi</strong>\n",
    "    fugu, ohyo, ika, and unagi\n",
    "    fugu, halibut, squid, and eel\n",
    "    \n",
    "    Enter your sushi ('QUIT' to exit): <strong>ika sake gunkanmaki</strong>\n",
    "    Traceback (most recent call last):\n",
    "        ...\n",
    "    __main__.InvalidSushiError: Nigiri has only one topping"
   ]
  }
 ],
 "metadata": {
  "kernelspec": {
   "display_name": "Python 3",
   "language": "python",
   "name": "python3"
  },
  "language_info": {
   "codemirror_mode": {
    "name": "ipython",
    "version": 3
   },
   "file_extension": ".py",
   "mimetype": "text/x-python",
   "name": "python",
   "nbconvert_exporter": "python",
   "pygments_lexer": "ipython3",
   "version": "3.7.4"
  }
 },
 "nbformat": 4,
 "nbformat_minor": 1
}
